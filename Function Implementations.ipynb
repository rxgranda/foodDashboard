{
 "cells": [
  {
   "cell_type": "code",
   "execution_count": 125,
   "metadata": {
    "ExecuteTime": {
     "end_time": "2019-02-22T16:42:52.676030Z",
     "start_time": "2019-02-22T17:42:52.661020+01:00"
    }
   },
   "outputs": [
    {
     "data": {
      "text/html": [
       "<script>requirejs.config({paths: { 'plotly': ['https://cdn.plot.ly/plotly-latest.min']},});if(!window.Plotly) {{require(['plotly'],function(plotly) {window.Plotly=plotly;});}}</script>"
      ],
      "text/vnd.plotly.v1+html": [
       "<script>requirejs.config({paths: { 'plotly': ['https://cdn.plot.ly/plotly-latest.min']},});if(!window.Plotly) {{require(['plotly'],function(plotly) {window.Plotly=plotly;});}}</script>"
      ]
     },
     "metadata": {},
     "output_type": "display_data"
    },
    {
     "name": "stdout",
     "output_type": "stream",
     "text": [
      "Plotly ver:  3.2.1\n",
      "Pandas ver:  0.23.4\n"
     ]
    }
   ],
   "source": [
    "# Standard libraries\n",
    "import sys\n",
    "import os\n",
    "import json\n",
    "import importlib\n",
    "import string\n",
    "import math\n",
    "import re\n",
    "import pprint\n",
    "# Third party libraries\n",
    "import pandas as pd\n",
    "import numpy as np\n",
    "import plotly\n",
    "import plotly.plotly as py\n",
    "import plotly.graph_objs as go\n",
    "\n",
    "pp = pprint.PrettyPrinter(indent=2, width=100)\n",
    "from plotly import __version__\n",
    "from plotly.offline import download_plotlyjs, init_notebook_mode, plot, iplot\n",
    "\n",
    "init_notebook_mode(connected=True)\n",
    "print('Plotly ver: ', plotly.__version__)\n",
    "print('Pandas ver: ', pd.__version__)"
   ]
  },
  {
   "cell_type": "markdown",
   "metadata": {},
   "source": [
    "## Initialization Function  - read the first sheet of the spreadsheet \n",
    "Run in startup before calling functions "
   ]
  },
  {
   "cell_type": "code",
   "execution_count": 2,
   "metadata": {
    "ExecuteTime": {
     "end_time": "2019-02-22T15:37:22.635803Z",
     "start_time": "2019-02-22T16:37:06.066608+01:00"
    }
   },
   "outputs": [],
   "source": [
    "df1 = pd.read_excel(\"./chronicgdayconsumers.xlsx\", sheet_name = 'L1_Consumers_only_g_day', header = 2)"
   ]
  },
  {
   "cell_type": "code",
   "execution_count": 123,
   "metadata": {
    "ExecuteTime": {
     "end_time": "2019-02-22T16:42:08.159405Z",
     "start_time": "2019-02-22T17:42:08.156404+01:00"
    },
    "scrolled": false
   },
   "outputs": [],
   "source": [
    "# df1.head(20)\n",
    "# df1.info()"
   ]
  },
  {
   "cell_type": "markdown",
   "metadata": {},
   "source": [
    "##  `plot_by_L1_and_population()` function"
   ]
  },
  {
   "cell_type": "code",
   "execution_count": 4,
   "metadata": {
    "ExecuteTime": {
     "end_time": "2019-02-22T15:45:52.763004Z",
     "start_time": "2019-02-22T16:45:52.719974+01:00"
    }
   },
   "outputs": [],
   "source": [
    "def plot_by_L1_and_population(df, L1_key, population_key, display_mean = False):\n",
    "    '''\n",
    "    df            :  L1 dataframe from spreeadsheet\n",
    "    L1_key        :  L1 Food group to filter on\n",
    "    population_key:  Population Class to filter on \n",
    "    display_mean  :  Display mean trend\n",
    "    '''\n",
    "    population_filter = (df['Pop Class'] == population_key)\n",
    "    L1_filter         = (df['Foodex L1'] == 'Grains and grain-based products')\n",
    "    stats             = df[L1_filter & population_filter]\n",
    "    g_stats = stats.groupby('Country', sort = False).max()\n",
    "#     g_stats\n",
    "\n",
    "    y_vals = {}\n",
    "    for country in g_stats.index:\n",
    "        y_vals[country] = [ g_stats.loc[country][i] for i in ['P5', 'P10','P10','Median','P95','P95','P99']]\n",
    "#         print(country, ' : ', y_vals[country])\n",
    "    results = pd.DataFrame(y_vals)\n",
    "#     results.head(20)\n",
    "\n",
    "#     print(L1_key)\n",
    "    data = []\n",
    "    for col in results.columns:\n",
    "        data.append(  go.Box( y=results[col], name=col, showlegend=False ) )\n",
    "\n",
    "    if display_mean:\n",
    "        data.append( go.Scatter( x = results.columns, y = results.mean(), mode='lines', name='mean' ) )\n",
    "        \n",
    "    layout = go.Layout(\n",
    "        title='Consumption of '+L1_key+' for '+population_key,\n",
    "        xaxis=dict(\n",
    "            title='x Axis',\n",
    "            titlefont=dict(\n",
    "                family='Courier New, monospace',\n",
    "                size=18,\n",
    "                color='#7f7f7f'\n",
    "            )\n",
    "        ),\n",
    "        yaxis=dict(\n",
    "            title='y Axis',\n",
    "            titlefont=dict(\n",
    "                family='Courier New, monospace',\n",
    "                size=18,\n",
    "                color='#7f7f7f'\n",
    "            )\n",
    "        )\n",
    "    )\n",
    "    fig = go.Figure(data=data, layout=layout)\n",
    "\n",
    "    # IPython notebook\n",
    "    return py.iplot(fig, filename='pandas-box-plot')\n",
    "    \n",
    "    # If want to return in Python\"\n",
    "    # url = py.plot(data, filename='pandas-box-plot')\n",
    "    "
   ]
  },
  {
   "cell_type": "markdown",
   "metadata": {},
   "source": [
    "\n",
    "### Function call for `plot_by_L1_and_Population`"
   ]
  },
  {
   "cell_type": "code",
   "execution_count": 5,
   "metadata": {
    "ExecuteTime": {
     "end_time": "2019-02-22T15:46:12.859016Z",
     "start_time": "2019-02-22T16:46:01.835283+01:00"
    },
    "scrolled": true
   },
   "outputs": [
    {
     "data": {
      "text/html": [
       "<iframe id=\"igraph\" scrolling=\"no\" style=\"border:none;\" seamless=\"seamless\" src=\"https://plot.ly/~kbardool/3.embed\" height=\"525px\" width=\"100%\"></iframe>"
      ],
      "text/plain": [
       "<plotly.tools.PlotlyDisplay object>"
      ]
     },
     "execution_count": 5,
     "metadata": {},
     "output_type": "execute_result"
    }
   ],
   "source": [
    "country_key = 'Austria'\n",
    "population_key = 'Adults'\n",
    "L1_key = 'Grains and grain-based products'\n",
    "\n",
    "## Call Function \n",
    "##--------------------------------------------------------\n",
    "plot_by_L1_and_population(df1, L1_key, population_key, display_mean = False)"
   ]
  },
  {
   "cell_type": "markdown",
   "metadata": {},
   "source": [
    "##  `sum_consumption_by_all_countries()` function"
   ]
  },
  {
   "cell_type": "code",
   "execution_count": 117,
   "metadata": {
    "ExecuteTime": {
     "end_time": "2019-02-22T16:38:34.540886Z",
     "start_time": "2019-02-22T17:38:34.535883+01:00"
    }
   },
   "outputs": [],
   "source": [
    "def sum_consumption_by_all_countries(df):\n",
    "    g_stats = df1.groupby(['Country', 'Survey', 'Pop Class'], sort = False)['Mean'].sum().groupby(['Country', 'Pop Class'], sort = False).mean()\n",
    "    return g_stats.round(0)"
   ]
  },
  {
   "cell_type": "markdown",
   "metadata": {
    "heading_collapsed": true
   },
   "source": [
    "### Function call for `sum_consumption_by_all_countries()`"
   ]
  },
  {
   "cell_type": "code",
   "execution_count": 121,
   "metadata": {
    "ExecuteTime": {
     "end_time": "2019-02-22T16:41:06.397773Z",
     "start_time": "2019-02-22T17:41:06.384764+01:00"
    },
    "hidden": true
   },
   "outputs": [
    {
     "name": "stdout",
     "output_type": "stream",
     "text": [
      "Country         Pop Class      \n",
      "Austria         Adults             3839.0\n",
      "                Elderly            3058.0\n",
      "                Very elderly       3545.0\n",
      "                Other children     2410.0\n",
      "                Adolescents        2089.0\n",
      "Belgium         Adolescents        3487.0\n",
      "                Adults             3614.0\n",
      "                Elderly            3242.0\n",
      "                Very elderly       2975.0\n",
      "                Toddlers           1799.0\n",
      "                Other children     1867.0\n",
      "Bulgaria        Infants            1257.0\n",
      "                Toddlers           1626.0\n",
      "                Other children     1904.0\n",
      "Cyprus          Adolescents        1740.0\n",
      "Czech Republic  Other children     2421.0\n",
      "                Adolescents        3237.0\n",
      "                Adults             4246.0\n",
      "Germany         Infants            1265.0\n",
      "                Toddlers           1510.0\n",
      "                Other children     1919.0\n",
      "                Adolescents        3043.0\n",
      "                Adults             4466.0\n",
      "                Elderly            3963.0\n",
      "                Very elderly       3636.0\n",
      "Denmark         Other children     2176.0\n",
      "                Adolescents        2670.0\n",
      "                Adults             3745.0\n",
      "                Elderly            3512.0\n",
      "                Very elderly       3516.0\n",
      "                Infants            1253.0\n",
      "                Toddlers           1482.0\n",
      "Spain           Other children     2283.0\n",
      "                Adolescents        2747.0\n",
      "                Toddlers           1940.0\n",
      "                Adults             2941.0\n",
      "Finland         Infants             940.0\n",
      "                Toddlers           1611.0\n",
      "                Other children     1913.0\n",
      "                Adults             3878.0\n",
      "                Elderly            3327.0\n",
      "                Adolescents        2515.0\n",
      "France          Other children     1803.0\n",
      "                Adolescents        2082.0\n",
      "                Adults             2859.0\n",
      "                Elderly            3039.0\n",
      "                Very elderly       3000.0\n",
      "United Kingdom  Infants            1258.0\n",
      "                Toddlers           1526.0\n",
      "                Adults             3112.0\n",
      "                Other children     1806.0\n",
      "                Adolescents        2354.0\n",
      "                Elderly            3090.0\n",
      "                Very elderly       2806.0\n",
      "Greece          Lactating women    2324.0\n",
      "                Other children     1885.0\n",
      "Hungary         Adults             2719.0\n",
      "                Elderly            2250.0\n",
      "                Very elderly       2122.0\n",
      "Ireland         Adults             3223.0\n",
      "                Elderly            2974.0\n",
      "                Very elderly       2622.0\n",
      "Italy           Infants            1669.0\n",
      "                Toddlers           1722.0\n",
      "                Other children     1989.0\n",
      "                Adolescents        2487.0\n",
      "                Adults             2443.0\n",
      "                Elderly            2385.0\n",
      "                Very elderly       2392.0\n",
      "Latvia          Pregnant women     2654.0\n",
      "                Other children     1996.0\n",
      "                Adolescents        2444.0\n",
      "                Adults             3043.0\n",
      "Netherlands     Toddlers           1747.0\n",
      "                Other children     2117.0\n",
      "                Adults             4204.0\n",
      "                Adolescents        3322.0\n",
      "                Elderly            3522.0\n",
      "                Very elderly       3235.0\n",
      "Romania         Adults             2294.0\n",
      "                Elderly            2184.0\n",
      "                Very elderly       2157.0\n",
      "Sweden          Other children     2089.0\n",
      "                Adolescents        2490.0\n",
      "                Adults             3206.0\n",
      "                Elderly            2967.0\n",
      "                Very elderly       2890.0\n",
      "Name: Mean, dtype: float64\n"
     ]
    }
   ],
   "source": [
    "## Call Function \n",
    "##--------------------------------------------------------\n",
    "answer = sum_consumption_by_all_countries(df1)\n",
    "print(answer)"
   ]
  },
  {
   "cell_type": "markdown",
   "metadata": {
    "ExecuteTime": {
     "end_time": "2019-02-22T16:33:03.888689Z",
     "start_time": "2019-02-22T17:33:03.878681+01:00"
    },
    "heading_collapsed": true
   },
   "source": [
    "### Example of retrieving information for one country"
   ]
  },
  {
   "cell_type": "code",
   "execution_count": 122,
   "metadata": {
    "ExecuteTime": {
     "end_time": "2019-02-22T16:41:08.575322Z",
     "start_time": "2019-02-22T17:41:08.570326+01:00"
    },
    "hidden": true
   },
   "outputs": [
    {
     "name": "stdout",
     "output_type": "stream",
     "text": [
      "{'Adults': 3839.0, 'Very elderly': 3545.0, 'Elderly': 3058.0, 'Other children': 2410.0, 'Adolescents': 2089.0}\n"
     ]
    }
   ],
   "source": [
    "print(answer['Austria'].to_dict())\n",
    "# print(answer['Toddlers'])"
   ]
  },
  {
   "cell_type": "markdown",
   "metadata": {
    "heading_collapsed": true
   },
   "source": [
    "## Misc Code"
   ]
  },
  {
   "cell_type": "code",
   "execution_count": null,
   "metadata": {
    "hidden": true
   },
   "outputs": [],
   "source": [
    "def sum_consumption_by_country(df, country_key):\n",
    "    country_filter = (df['Country'] == country_key)\n",
    "    g_stats = df[country_filter].groupby(['Country', 'Survey', 'Pop Class'], sort = False)['Mean'].sum().groupby('Pop Class', sort = False).mean().sort_index()\n",
    "    return g_stats.round(0)\n"
   ]
  },
  {
   "cell_type": "code",
   "execution_count": 119,
   "metadata": {
    "ExecuteTime": {
     "end_time": "2019-02-22T16:40:59.195675Z",
     "start_time": "2019-02-22T17:40:59.183649+01:00"
    },
    "hidden": true
   },
   "outputs": [
    {
     "name": "stdout",
     "output_type": "stream",
     "text": [
      "{'Adults': 3745.0, 'Toddlers': 1482.0, 'Infants': 1253.0, 'Very elderly': 3516.0, 'Adolescents': 2670.0, 'Elderly': 3512.0, 'Other children': 2176.0}\n",
      "1482.0\n"
     ]
    }
   ],
   "source": [
    "## Call Function \n",
    "##--------------------------------------------------------\n",
    "answer = sum_consumption_by_country(df1, 'Denmark')\n",
    "print(answer.to_dict())\n",
    "print(answer['Toddlers'])"
   ]
  },
  {
   "cell_type": "code",
   "execution_count": null,
   "metadata": {
    "ExecuteTime": {
     "end_time": "2019-02-22T15:50:21.399801Z",
     "start_time": "2019-02-22T16:50:21.372782+01:00"
    },
    "hidden": true
   },
   "outputs": [],
   "source": [
    "#df2.head()\n",
    "#df3.head()\n",
    "#df4.head()\n",
    "print(df1.columns)\n",
    "L1_foodgroups = df1['Foodex L1' ].unique()\n",
    "print('L1 Food Groups ', len(L1_foodgroups))\n",
    "pp.pprint(L1_foodgroups)\n",
    "print(df1['Survey'].unique())"
   ]
  },
  {
   "cell_type": "code",
   "execution_count": 79,
   "metadata": {
    "ExecuteTime": {
     "end_time": "2019-02-22T16:14:21.477931Z",
     "start_time": "2019-02-22T17:14:21.474929+01:00"
    },
    "hidden": true
   },
   "outputs": [],
   "source": [
    "# df1[ (df1['Country'] == 'Denmark') & (df1['Pop Class'] =='Very elderly') ]"
   ]
  },
  {
   "cell_type": "code",
   "execution_count": 86,
   "metadata": {
    "ExecuteTime": {
     "end_time": "2019-02-22T16:17:26.402900Z",
     "start_time": "2019-02-22T17:17:26.385872+01:00"
    },
    "hidden": true
   },
   "outputs": [
    {
     "data": {
      "text/plain": [
       "Country         Pop Class      \n",
       "Austria         Adults             3839.437782\n",
       "                Elderly            3057.579458\n",
       "                Very elderly       3544.986866\n",
       "                Other children     2409.847723\n",
       "                Adolescents        2088.809800\n",
       "Belgium         Adolescents        3486.831708\n",
       "                Adults             3613.969194\n",
       "                Elderly            3241.531193\n",
       "                Very elderly       2975.445205\n",
       "                Toddlers           1798.948146\n",
       "                Other children     1867.366346\n",
       "Bulgaria        Infants            1257.148264\n",
       "                Toddlers           1625.762263\n",
       "                Other children     1904.010407\n",
       "Cyprus          Adolescents        1740.196706\n",
       "Czech Republic  Other children     2420.936852\n",
       "                Adolescents        3237.228492\n",
       "                Adults             4245.855166\n",
       "Germany         Infants            1264.790288\n",
       "                Toddlers           1510.009145\n",
       "                Other children     1919.211279\n",
       "                Adolescents        3042.705885\n",
       "                Adults             4466.289487\n",
       "                Elderly            3962.509039\n",
       "                Very elderly       3636.380720\n",
       "Denmark         Other children     2175.527104\n",
       "                Adolescents        2670.357110\n",
       "                Adults             3745.038567\n",
       "                Elderly            3511.660884\n",
       "                Very elderly       3516.182687\n",
       "                Infants            1252.926600\n",
       "                Toddlers           1481.534565\n",
       "Spain           Other children     2282.560887\n",
       "                Adolescents        2747.411035\n",
       "                Toddlers           1940.245765\n",
       "                Adults             2941.490419\n",
       "Finland         Infants             940.328216\n",
       "                Toddlers           1611.012969\n",
       "                Other children     1913.295658\n",
       "                Adults             3878.350014\n",
       "                Elderly            3327.418909\n",
       "                Adolescents        2514.860368\n",
       "France          Other children     1802.705178\n",
       "                Adolescents        2082.146625\n",
       "                Adults             2858.618959\n",
       "                Elderly            3038.852195\n",
       "                Very elderly       3000.144252\n",
       "United Kingdom  Infants            1257.865367\n",
       "                Toddlers           1525.663633\n",
       "                Adults             3111.868094\n",
       "                Other children     1805.508666\n",
       "                Adolescents        2354.465999\n",
       "                Elderly            3089.533878\n",
       "                Very elderly       2805.798840\n",
       "Greece          Lactating women    2323.996694\n",
       "                Other children     1885.286204\n",
       "Hungary         Adults             2719.277031\n",
       "                Elderly            2250.229304\n",
       "                Very elderly       2121.550430\n",
       "Ireland         Adults             3222.619069\n",
       "                Elderly            2973.666597\n",
       "                Very elderly       2621.697249\n",
       "Italy           Infants            1668.996481\n",
       "                Toddlers           1721.715360\n",
       "                Other children     1989.104476\n",
       "                Adolescents        2487.450056\n",
       "                Adults             2442.937339\n",
       "                Elderly            2385.028236\n",
       "                Very elderly       2392.169743\n",
       "Latvia          Pregnant women     2653.756773\n",
       "                Other children     1995.917062\n",
       "                Adolescents        2443.662658\n",
       "                Adults             3042.804595\n",
       "Netherlands     Toddlers           1746.897851\n",
       "                Other children     2116.602181\n",
       "                Adults             4204.258670\n",
       "                Adolescents        3321.790680\n",
       "                Elderly            3522.347368\n",
       "                Very elderly       3235.479261\n",
       "Romania         Adults             2294.487421\n",
       "                Elderly            2184.306744\n",
       "                Very elderly       2157.254587\n",
       "Sweden          Other children     2088.718092\n",
       "                Adolescents        2490.364804\n",
       "                Adults             3205.810506\n",
       "                Elderly            2966.642707\n",
       "                Very elderly       2890.350118\n",
       "Name: Mean, dtype: float64"
      ]
     },
     "execution_count": 86,
     "metadata": {},
     "output_type": "execute_result"
    }
   ],
   "source": [
    "pd.options.display.max_rows = 100\n",
    "# df1[ (df1['Country'] == 'Denmark') & (df1['Survey'] == 'Danish Dietary Survey')][['Pop Class','Nr Consumers', 'Foodex L1']]      ##.groupby('Survey').max()\n",
    "g_stats = df1.groupby(['Country', 'Survey', 'Pop Class'], sort = False)['Mean'].sum().groupby(['Country', 'Pop Class'], sort = False).mean()\n",
    "g_stats"
   ]
  },
  {
   "cell_type": "code",
   "execution_count": 37,
   "metadata": {
    "ExecuteTime": {
     "end_time": "2019-02-22T16:03:41.833664Z",
     "start_time": "2019-02-22T17:03:41.811667+01:00"
    },
    "hidden": true
   },
   "outputs": [
    {
     "data": {
      "text/html": [
       "<div>\n",
       "<style scoped>\n",
       "    .dataframe tbody tr th:only-of-type {\n",
       "        vertical-align: middle;\n",
       "    }\n",
       "\n",
       "    .dataframe tbody tr th {\n",
       "        vertical-align: top;\n",
       "    }\n",
       "\n",
       "    .dataframe thead th {\n",
       "        text-align: right;\n",
       "    }\n",
       "</style>\n",
       "<table border=\"1\" class=\"dataframe\">\n",
       "  <thead>\n",
       "    <tr style=\"text-align: right;\">\n",
       "      <th></th>\n",
       "      <th>Nr Consumers</th>\n",
       "      <th>% Consumers</th>\n",
       "      <th>Mean</th>\n",
       "      <th>STD</th>\n",
       "      <th>P5</th>\n",
       "      <th>P10</th>\n",
       "      <th>Median</th>\n",
       "      <th>P95</th>\n",
       "      <th>P97.5</th>\n",
       "      <th>P99</th>\n",
       "    </tr>\n",
       "    <tr>\n",
       "      <th>Pop Class</th>\n",
       "      <th></th>\n",
       "      <th></th>\n",
       "      <th></th>\n",
       "      <th></th>\n",
       "      <th></th>\n",
       "      <th></th>\n",
       "      <th></th>\n",
       "      <th></th>\n",
       "      <th></th>\n",
       "      <th></th>\n",
       "    </tr>\n",
       "  </thead>\n",
       "  <tbody>\n",
       "    <tr>\n",
       "      <th>Other children</th>\n",
       "      <td>6048.0</td>\n",
       "      <td>15.376962</td>\n",
       "      <td>2175.527104</td>\n",
       "      <td>1296.847200</td>\n",
       "      <td>591.170571</td>\n",
       "      <td>808.258643</td>\n",
       "      <td>1918.410464</td>\n",
       "      <td>4620.230071</td>\n",
       "      <td>5286.549929</td>\n",
       "      <td>6479.363000</td>\n",
       "    </tr>\n",
       "    <tr>\n",
       "      <th>Adolescents</th>\n",
       "      <td>6604.0</td>\n",
       "      <td>15.437793</td>\n",
       "      <td>2670.357110</td>\n",
       "      <td>1946.447901</td>\n",
       "      <td>528.753726</td>\n",
       "      <td>768.606071</td>\n",
       "      <td>2201.432393</td>\n",
       "      <td>6349.908929</td>\n",
       "      <td>7657.122464</td>\n",
       "      <td>9999.237714</td>\n",
       "    </tr>\n",
       "    <tr>\n",
       "      <th>Adults</th>\n",
       "      <td>36479.0</td>\n",
       "      <td>16.041058</td>\n",
       "      <td>3745.038567</td>\n",
       "      <td>2668.616688</td>\n",
       "      <td>628.394405</td>\n",
       "      <td>985.688857</td>\n",
       "      <td>3194.205179</td>\n",
       "      <td>8620.107857</td>\n",
       "      <td>10348.450143</td>\n",
       "      <td>12585.850143</td>\n",
       "    </tr>\n",
       "    <tr>\n",
       "      <th>Elderly</th>\n",
       "      <td>4667.5</td>\n",
       "      <td>16.032823</td>\n",
       "      <td>3511.660884</td>\n",
       "      <td>2374.173320</td>\n",
       "      <td>709.479214</td>\n",
       "      <td>1044.611571</td>\n",
       "      <td>2992.090964</td>\n",
       "      <td>7783.178786</td>\n",
       "      <td>9593.492429</td>\n",
       "      <td>11106.734429</td>\n",
       "    </tr>\n",
       "    <tr>\n",
       "      <th>Very elderly</th>\n",
       "      <td>250.5</td>\n",
       "      <td>15.741667</td>\n",
       "      <td>3516.182687</td>\n",
       "      <td>2162.502378</td>\n",
       "      <td>870.488143</td>\n",
       "      <td>1178.561071</td>\n",
       "      <td>3146.006036</td>\n",
       "      <td>7613.816786</td>\n",
       "      <td>8328.061786</td>\n",
       "      <td>8328.061786</td>\n",
       "    </tr>\n",
       "    <tr>\n",
       "      <th>Infants</th>\n",
       "      <td>10652.0</td>\n",
       "      <td>12.895884</td>\n",
       "      <td>1252.926600</td>\n",
       "      <td>992.123960</td>\n",
       "      <td>124.130143</td>\n",
       "      <td>233.431571</td>\n",
       "      <td>1038.443857</td>\n",
       "      <td>3249.442000</td>\n",
       "      <td>3684.190714</td>\n",
       "      <td>4441.557857</td>\n",
       "    </tr>\n",
       "    <tr>\n",
       "      <th>Toddlers</th>\n",
       "      <td>13680.0</td>\n",
       "      <td>14.918212</td>\n",
       "      <td>1481.534565</td>\n",
       "      <td>863.029800</td>\n",
       "      <td>447.648714</td>\n",
       "      <td>616.361571</td>\n",
       "      <td>1306.977286</td>\n",
       "      <td>3016.441000</td>\n",
       "      <td>3495.953857</td>\n",
       "      <td>4195.454714</td>\n",
       "    </tr>\n",
       "  </tbody>\n",
       "</table>\n",
       "</div>"
      ],
      "text/plain": [
       "                Nr Consumers  % Consumers         Mean          STD  \\\n",
       "Pop Class                                                             \n",
       "Other children        6048.0    15.376962  2175.527104  1296.847200   \n",
       "Adolescents           6604.0    15.437793  2670.357110  1946.447901   \n",
       "Adults               36479.0    16.041058  3745.038567  2668.616688   \n",
       "Elderly               4667.5    16.032823  3511.660884  2374.173320   \n",
       "Very elderly           250.5    15.741667  3516.182687  2162.502378   \n",
       "Infants              10652.0    12.895884  1252.926600   992.123960   \n",
       "Toddlers             13680.0    14.918212  1481.534565   863.029800   \n",
       "\n",
       "                        P5          P10       Median          P95  \\\n",
       "Pop Class                                                           \n",
       "Other children  591.170571   808.258643  1918.410464  4620.230071   \n",
       "Adolescents     528.753726   768.606071  2201.432393  6349.908929   \n",
       "Adults          628.394405   985.688857  3194.205179  8620.107857   \n",
       "Elderly         709.479214  1044.611571  2992.090964  7783.178786   \n",
       "Very elderly    870.488143  1178.561071  3146.006036  7613.816786   \n",
       "Infants         124.130143   233.431571  1038.443857  3249.442000   \n",
       "Toddlers        447.648714   616.361571  1306.977286  3016.441000   \n",
       "\n",
       "                       P97.5           P99  \n",
       "Pop Class                                   \n",
       "Other children   5286.549929   6479.363000  \n",
       "Adolescents      7657.122464   9999.237714  \n",
       "Adults          10348.450143  12585.850143  \n",
       "Elderly          9593.492429  11106.734429  \n",
       "Very elderly     8328.061786   8328.061786  \n",
       "Infants          3684.190714   4441.557857  \n",
       "Toddlers         3495.953857   4195.454714  "
      ]
     },
     "execution_count": 37,
     "metadata": {},
     "output_type": "execute_result"
    }
   ],
   "source": [
    "answer.groupby('Pop Class', sort = False).mean()"
   ]
  },
  {
   "cell_type": "code",
   "execution_count": null,
   "metadata": {
    "hidden": true
   },
   "outputs": [],
   "source": []
  }
 ],
 "metadata": {
  "anaconda-cloud": {},
  "kernelspec": {
   "display_name": "Python [conda env:MLProject]",
   "language": "python",
   "name": "conda-env-MLProject-py"
  },
  "language_info": {
   "codemirror_mode": {
    "name": "ipython",
    "version": 3
   },
   "file_extension": ".py",
   "mimetype": "text/x-python",
   "name": "python",
   "nbconvert_exporter": "python",
   "pygments_lexer": "ipython3",
   "version": "3.5.6"
  },
  "toc": {
   "base_numbering": 1,
   "nav_menu": {},
   "number_sections": true,
   "sideBar": true,
   "skip_h1_title": false,
   "title_cell": "Table of Contents",
   "title_sidebar": "Contents",
   "toc_cell": false,
   "toc_position": {},
   "toc_section_display": true,
   "toc_window_display": false
  }
 },
 "nbformat": 4,
 "nbformat_minor": 2
}
