{
 "cells": [
  {
   "cell_type": "code",
   "execution_count": 40,
   "metadata": {
    "ExecuteTime": {
     "end_time": "2019-02-22T21:19:50.188122Z",
     "start_time": "2019-02-22T22:19:50.175110+01:00"
    }
   },
   "outputs": [
    {
     "data": {
      "text/html": [
       "<script>requirejs.config({paths: { 'plotly': ['https://cdn.plot.ly/plotly-latest.min']},});if(!window.Plotly) {{require(['plotly'],function(plotly) {window.Plotly=plotly;});}}</script>"
      ],
      "text/vnd.plotly.v1+html": [
       "<script>requirejs.config({paths: { 'plotly': ['https://cdn.plot.ly/plotly-latest.min']},});if(!window.Plotly) {{require(['plotly'],function(plotly) {window.Plotly=plotly;});}}</script>"
      ]
     },
     "metadata": {},
     "output_type": "display_data"
    },
    {
     "name": "stdout",
     "output_type": "stream",
     "text": [
      "Plotly ver:  3.2.1\n",
      "Pandas ver:  0.23.4\n"
     ]
    }
   ],
   "source": [
    "# Standard libraries\n",
    "import sys\n",
    "import os\n",
    "import json\n",
    "import importlib\n",
    "import string\n",
    "import math\n",
    "import re\n",
    "import pprint\n",
    "# Third party libraries\n",
    "import pandas as pd\n",
    "import numpy as np\n",
    "import plotly\n",
    "import plotly.plotly as py\n",
    "import plotly.graph_objs as go\n",
    "\n",
    "pp = pprint.PrettyPrinter(indent=2, width=100)\n",
    "from plotly import __version__\n",
    "from plotly.offline import download_plotlyjs, init_notebook_mode, plot, iplot\n",
    "\n",
    "init_notebook_mode(connected=True)\n",
    "print('Plotly ver: ', plotly.__version__)\n",
    "print('Pandas ver: ', pd.__version__)\n",
    "pd.options.display.max_rows = 150"
   ]
  },
  {
   "cell_type": "markdown",
   "metadata": {},
   "source": [
    "## Initialization Function  - read the first sheet of the spreadsheet \n",
    "Run in startup before calling functions "
   ]
  },
  {
   "cell_type": "code",
   "execution_count": 2,
   "metadata": {
    "ExecuteTime": {
     "end_time": "2019-02-22T20:56:06.805977Z",
     "start_time": "2019-02-22T21:55:50.684472+01:00"
    }
   },
   "outputs": [],
   "source": [
    "df1 = pd.read_excel(\"./chronicgdayconsumers.xlsx\", sheet_name = 'L1_Consumers_only_g_day', header = 2)\n",
    "df1.set_index(['Country', 'Pop Class', 'Foodex L1', 'Metrics', 'Survey'])    "
   ]
  },
  {
   "cell_type": "code",
   "execution_count": 60,
   "metadata": {
    "ExecuteTime": {
     "end_time": "2019-02-22T21:27:05.140589Z",
     "start_time": "2019-02-22T22:27:05.137586+01:00"
    }
   },
   "outputs": [],
   "source": [
    "# df1[df1['Country'] == 'Germany'] \n",
    "# df1.columns\n",
    "\n",
    "# df1[~(df1.Metrics == 'A.01.001573') & (df1.Country == 'Austria')]\n",
    "\n",
    "# df1[df1['Foodex L1'] == 'Drinking water (water without any additives except']"
   ]
  },
  {
   "cell_type": "markdown",
   "metadata": {},
   "source": [
    "##  `plot_by_L1_and_population()` function"
   ]
  },
  {
   "cell_type": "code",
   "execution_count": 4,
   "metadata": {
    "ExecuteTime": {
     "end_time": "2019-02-22T15:45:52.763004Z",
     "start_time": "2019-02-22T16:45:52.719974+01:00"
    }
   },
   "outputs": [],
   "source": [
    "def plot_by_L1_and_population(df, L1_key, population_key, display_mean = False):\n",
    "    '''\n",
    "    df            :  L1 dataframe from spreeadsheet\n",
    "    L1_key        :  L1 Food group to filter on\n",
    "    population_key:  Population Class to filter on \n",
    "    display_mean  :  Display mean trend\n",
    "    '''\n",
    "    population_filter = (df['Pop Class'] == population_key)\n",
    "    L1_filter         = (df['Foodex L1'] == 'Grains and grain-based products')\n",
    "    stats             = df[L1_filter & population_filter]\n",
    "    g_stats = stats.groupby('Country', sort = False).max()\n",
    "#     g_stats\n",
    "\n",
    "    y_vals = {}\n",
    "    for country in g_stats.index:\n",
    "        y_vals[country] = [ g_stats.loc[country][i] for i in ['P5', 'P10','P10','Median','P95','P95','P99']]\n",
    "#         print(country, ' : ', y_vals[country])\n",
    "    results = pd.DataFrame(y_vals)\n",
    "#     results.head(20)\n",
    "\n",
    "#     print(L1_key)\n",
    "    data = []\n",
    "    for col in results.columns:\n",
    "        data.append(  go.Box( y=results[col], name=col, showlegend=False ) )\n",
    "\n",
    "    if display_mean:\n",
    "        data.append( go.Scatter( x = results.columns, y = results.mean(), mode='lines', name='mean' ) )\n",
    "        \n",
    "    layout = go.Layout(\n",
    "        title='Consumption of '+L1_key+' for '+population_key,\n",
    "        xaxis=dict(\n",
    "            title='x Axis',\n",
    "            titlefont=dict(\n",
    "                family='Courier New, monospace',\n",
    "                size=18,\n",
    "                color='#7f7f7f'\n",
    "            )\n",
    "        ),\n",
    "        yaxis=dict(\n",
    "            title='y Axis',\n",
    "            titlefont=dict(\n",
    "                family='Courier New, monospace',\n",
    "                size=18,\n",
    "                color='#7f7f7f'\n",
    "            )\n",
    "        )\n",
    "    )\n",
    "    fig = go.Figure(data=data, layout=layout)\n",
    "\n",
    "    # IPython notebook\n",
    "    return py.iplot(fig, filename='pandas-box-plot')\n",
    "    \n",
    "    # If want to return in Python\"\n",
    "    # url = py.plot(data, filename='pandas-box-plot')\n",
    "    "
   ]
  },
  {
   "cell_type": "markdown",
   "metadata": {},
   "source": [
    "### Function call for `plot_by_L1_and_Population_without_water`"
   ]
  },
  {
   "cell_type": "code",
   "execution_count": 5,
   "metadata": {
    "ExecuteTime": {
     "end_time": "2019-02-22T15:46:12.859016Z",
     "start_time": "2019-02-22T16:46:01.835283+01:00"
    },
    "scrolled": true
   },
   "outputs": [
    {
     "data": {
      "text/html": [
       "<iframe id=\"igraph\" scrolling=\"no\" style=\"border:none;\" seamless=\"seamless\" src=\"https://plot.ly/~kbardool/3.embed\" height=\"525px\" width=\"100%\"></iframe>"
      ],
      "text/plain": [
       "<plotly.tools.PlotlyDisplay object>"
      ]
     },
     "execution_count": 5,
     "metadata": {},
     "output_type": "execute_result"
    }
   ],
   "source": [
    "country_key = 'Austria'\n",
    "population_key = 'Adults'\n",
    "L1_key = 'Grains and grain-based products'\n",
    "\n",
    "## Call Function \n",
    "##--------------------------------------------------------\n",
    "plot_by_L1_and_population(df1, L1_key, population_key, display_mean = False)"
   ]
  },
  {
   "cell_type": "markdown",
   "metadata": {},
   "source": [
    "##  `sum_consumption_by_all_countries()` functions"
   ]
  },
  {
   "cell_type": "code",
   "execution_count": 53,
   "metadata": {
    "ExecuteTime": {
     "end_time": "2019-02-22T21:24:51.878455Z",
     "start_time": "2019-02-22T22:24:51.870450+01:00"
    }
   },
   "outputs": [],
   "source": [
    "def sum_consumption_by_all_countries_without_water(df):\n",
    "    gstats= df1[~(df1.Metrics == 'A.01.001573')].groupby(['Country', 'Survey', 'Pop Class'], sort = False)['Mean'].sum().groupby(['Country', 'Pop Class'], sort = False).mean()\n",
    "    return gstats.round(0)\n",
    "\n",
    "def sum_consumption_by_all_countries_water(df):\n",
    "    gstats= df1[(df1.Metrics == 'A.01.001573')].groupby(['Country', 'Survey', 'Pop Class'], sort = False)['Mean'].sum().groupby(['Country', 'Pop Class'], sort = False).mean()\n",
    "    return gstats.round(0)"
   ]
  },
  {
   "cell_type": "markdown",
   "metadata": {
    "heading_collapsed": true
   },
   "source": [
    "### Function call for `sum_consumption_by_all_countries_without_water()`"
   ]
  },
  {
   "cell_type": "code",
   "execution_count": 54,
   "metadata": {
    "ExecuteTime": {
     "end_time": "2019-02-22T21:24:56.011850Z",
     "start_time": "2019-02-22T22:24:55.995837+01:00"
    },
    "hidden": true,
    "scrolled": false
   },
   "outputs": [
    {
     "name": "stdout",
     "output_type": "stream",
     "text": [
      "Country         Pop Class      \n",
      "Austria         Adults             2664.0\n",
      "                Elderly            2268.0\n",
      "                Very elderly       2431.0\n",
      "                Other children     1833.0\n",
      "                Adolescents        1533.0\n",
      "Belgium         Adolescents        2787.0\n",
      "                Adults             2828.0\n",
      "                Elderly            2601.0\n",
      "                Very elderly       2444.0\n",
      "                Toddlers           1627.0\n",
      "                Other children     1611.0\n",
      "Bulgaria        Infants             909.0\n",
      "                Toddlers           1252.0\n",
      "                Other children     1437.0\n",
      "Cyprus          Adolescents        1657.0\n",
      "Czech Republic  Other children     1807.0\n",
      "                Adolescents        2385.0\n",
      "                Adults             2933.0\n",
      "Germany         Infants            1088.0\n",
      "                Toddlers           1186.0\n",
      "                Other children     1536.0\n",
      "                Adolescents        2317.0\n",
      "                Adults             3340.0\n",
      "                Elderly            3044.0\n",
      "                Very elderly       2838.0\n",
      "Denmark         Other children     1615.0\n",
      "                Adolescents        1956.0\n",
      "                Adults             2757.0\n",
      "                Elderly            2723.0\n",
      "                Very elderly       2820.0\n",
      "                Infants             947.0\n",
      "                Toddlers           1105.0\n",
      "Spain           Other children     1744.0\n",
      "                Adolescents        2091.0\n",
      "                Toddlers           1455.0\n",
      "                Adults             2359.0\n",
      "Finland         Infants             700.0\n",
      "                Toddlers           1144.0\n",
      "                Other children     1639.0\n",
      "                Adults             2959.0\n",
      "                Elderly            2554.0\n",
      "                Adolescents        1873.0\n",
      "France          Other children     1360.0\n",
      "                Adolescents        1513.0\n",
      "                Adults             2036.0\n",
      "                Elderly            2208.0\n",
      "                Very elderly       2133.0\n",
      "United Kingdom  Infants            1119.0\n",
      "                Toddlers           1246.0\n",
      "                Adults             2425.0\n",
      "                Other children     1402.0\n",
      "                Adolescents        1856.0\n",
      "                Elderly            2448.0\n",
      "                Very elderly       2266.0\n",
      "Greece          Lactating women    2274.0\n",
      "                Other children     1482.0\n",
      "Hungary         Adults             2388.0\n",
      "                Elderly            1918.0\n",
      "                Very elderly       1868.0\n",
      "Ireland         Adults             2709.0\n",
      "                Elderly            2492.0\n",
      "                Very elderly       2188.0\n",
      "Italy           Infants            1240.0\n",
      "                Toddlers           1336.0\n",
      "                Other children     1479.0\n",
      "                Adolescents        1847.0\n",
      "                Adults             1759.0\n",
      "                Elderly            1754.0\n",
      "                Very elderly       1746.0\n",
      "Latvia          Pregnant women     2217.0\n",
      "                Other children     1771.0\n",
      "                Adolescents        2206.0\n",
      "                Adults             2777.0\n",
      "Netherlands     Toddlers           1421.0\n",
      "                Other children     1770.0\n",
      "                Adults             3557.0\n",
      "                Adolescents        2825.0\n",
      "                Elderly            2976.0\n",
      "                Very elderly       2766.0\n",
      "Romania         Adults             1901.0\n",
      "                Elderly            1829.0\n",
      "                Very elderly       1878.0\n",
      "Sweden          Other children     1915.0\n",
      "                Adolescents        2274.0\n",
      "                Adults             2568.0\n",
      "                Elderly            2439.0\n",
      "                Very elderly       2421.0\n",
      "Name: Mean, dtype: float64\n"
     ]
    }
   ],
   "source": [
    "## Call Function \n",
    "##--------------------------------------------------------\n",
    "answer = sum_consumption_by_all_countries_without_water(df1)\n",
    "print(answer)"
   ]
  },
  {
   "cell_type": "markdown",
   "metadata": {},
   "source": [
    "### Function call for `sum_consumption_by_all_countries_water()`"
   ]
  },
  {
   "cell_type": "code",
   "execution_count": 56,
   "metadata": {
    "ExecuteTime": {
     "end_time": "2019-02-22T21:25:50.441519Z",
     "start_time": "2019-02-22T22:25:50.425507+01:00"
    },
    "scrolled": true
   },
   "outputs": [
    {
     "name": "stdout",
     "output_type": "stream",
     "text": [
      "Country         Pop Class      \n",
      "Austria         Adults             1175.0\n",
      "                Elderly             789.0\n",
      "                Very elderly       1114.0\n",
      "                Other children      577.0\n",
      "                Adolescents         555.0\n",
      "Belgium         Adolescents         700.0\n",
      "                Adults              786.0\n",
      "                Elderly             641.0\n",
      "                Very elderly        531.0\n",
      "                Toddlers            172.0\n",
      "                Other children      256.0\n",
      "Bulgaria        Infants             349.0\n",
      "                Toddlers            373.0\n",
      "                Other children      467.0\n",
      "Cyprus          Adolescents          83.0\n",
      "Czech Republic  Other children      614.0\n",
      "                Adolescents         852.0\n",
      "                Adults             1313.0\n",
      "Germany         Infants             176.0\n",
      "                Toddlers            324.0\n",
      "                Other children      383.0\n",
      "                Adolescents         725.0\n",
      "                Adults             1126.0\n",
      "                Elderly             918.0\n",
      "                Very elderly        799.0\n",
      "Denmark         Other children      560.0\n",
      "                Adolescents         714.0\n",
      "                Adults              988.0\n",
      "                Elderly             788.0\n",
      "                Very elderly        696.0\n",
      "                Infants             306.0\n",
      "                Toddlers            377.0\n",
      "Spain           Other children      538.0\n",
      "                Adolescents         656.0\n",
      "                Toddlers            486.0\n",
      "                Adults              583.0\n",
      "Finland         Infants             241.0\n",
      "                Toddlers            467.0\n",
      "                Other children      274.0\n",
      "                Adults              919.0\n",
      "                Elderly             774.0\n",
      "                Adolescents         642.0\n",
      "France          Other children      443.0\n",
      "                Adolescents         569.0\n",
      "                Adults              822.0\n",
      "                Elderly             831.0\n",
      "                Very elderly        868.0\n",
      "United Kingdom  Infants             138.0\n",
      "                Toddlers            280.0\n",
      "                Adults              687.0\n",
      "                Other children      404.0\n",
      "                Adolescents         498.0\n",
      "                Elderly             642.0\n",
      "                Very elderly        540.0\n",
      "Greece          Lactating women      50.0\n",
      "                Other children      403.0\n",
      "Hungary         Adults              331.0\n",
      "                Elderly             333.0\n",
      "                Very elderly        254.0\n",
      "Ireland         Adults              514.0\n",
      "                Elderly             481.0\n",
      "                Very elderly        433.0\n",
      "Italy           Infants             429.0\n",
      "                Toddlers            386.0\n",
      "                Other children      510.0\n",
      "                Adolescents         640.0\n",
      "                Adults              684.0\n",
      "                Elderly             631.0\n",
      "                Very elderly        646.0\n",
      "Latvia          Pregnant women      436.0\n",
      "                Other children      225.0\n",
      "                Adolescents         238.0\n",
      "                Adults              266.0\n",
      "Netherlands     Toddlers            326.0\n",
      "                Other children      346.0\n",
      "                Adults              647.0\n",
      "                Adolescents         497.0\n",
      "                Elderly             546.0\n",
      "                Very elderly        470.0\n",
      "Romania         Adults              394.0\n",
      "                Elderly             356.0\n",
      "                Very elderly        279.0\n",
      "Sweden          Other children      173.0\n",
      "                Adolescents         217.0\n",
      "                Adults              638.0\n",
      "                Elderly             527.0\n",
      "                Very elderly        470.0\n",
      "Name: Mean, dtype: float64\n"
     ]
    }
   ],
   "source": [
    "## Call Function \n",
    "##--------------------------------------------------------\n",
    "answer = sum_consumption_by_all_countries_water(df1)\n",
    "print(answer)"
   ]
  },
  {
   "cell_type": "markdown",
   "metadata": {
    "ExecuteTime": {
     "end_time": "2019-02-22T16:33:03.888689Z",
     "start_time": "2019-02-22T17:33:03.878681+01:00"
    }
   },
   "source": [
    "### Example of retrieving information for one country"
   ]
  },
  {
   "cell_type": "code",
   "execution_count": 12,
   "metadata": {
    "ExecuteTime": {
     "end_time": "2019-02-22T20:58:57.904823Z",
     "start_time": "2019-02-22T21:58:57.898820+01:00"
    }
   },
   "outputs": [
    {
     "name": "stdout",
     "output_type": "stream",
     "text": [
      "{'Adolescents': 2089.0, 'Very elderly': 3545.0, 'Elderly': 3058.0, 'Adults': 3839.0, 'Other children': 2410.0}\n"
     ]
    }
   ],
   "source": [
    "print(answer['Austria'].to_dict())\n",
    "# print(answer['Toddlers'])"
   ]
  },
  {
   "cell_type": "markdown",
   "metadata": {},
   "source": [
    "## Misc Code"
   ]
  },
  {
   "cell_type": "code",
   "execution_count": 24,
   "metadata": {
    "ExecuteTime": {
     "end_time": "2019-02-22T21:03:14.939706Z",
     "start_time": "2019-02-22T22:03:14.929701+01:00"
    }
   },
   "outputs": [
    {
     "data": {
      "text/plain": [
       "Country         NetherlandsNetherlandsNetherlandsNetherlandsNe...\n",
       "Survey          Dutch National Dietary Survey 2003Dutch Nation...\n",
       "Pop Class       AdultsAdultsAdultsAdultsAdultsAdultsAdultsAdul...\n",
       "Foodex L1       Grains and grain-based productsVegetables and ...\n",
       "Metrics         A.01.000001A.01.000317A.01.000467A.01.000486A....\n",
       "Nr Consumers                                                37377\n",
       "% Consumers                                               26.4307\n",
       "Mean                                                      8408.52\n",
       "STD                                                       6737.92\n",
       "P5                                                         1243.5\n",
       "P10                                                       2052.42\n",
       "Median                                                    6799.41\n",
       "P95                                                       21881.2\n",
       "P97.5                                                     25620.3\n",
       "P99                                                       30968.2\n",
       "Comment                                                          \n",
       "dtype: object"
      ]
     },
     "execution_count": 24,
     "metadata": {},
     "output_type": "execute_result"
    }
   ],
   "source": [
    "df1[(df1['Country']=='Netherlands') & (df1['Pop Class']=='Adults')].grou()"
   ]
  },
  {
   "cell_type": "code",
   "execution_count": 27,
   "metadata": {
    "ExecuteTime": {
     "end_time": "2019-02-22T21:05:05.791202Z",
     "start_time": "2019-02-22T22:05:05.784197+01:00"
    }
   },
   "outputs": [],
   "source": [
    "    g_stats = df1.groupby(['Country', 'Survey', 'Pop Class', 'Foodex L1'], sort = False)['Mean'].sum()\n",
    "\n",
    "g_stats"
   ]
  },
  {
   "cell_type": "code",
   "execution_count": null,
   "metadata": {},
   "outputs": [],
   "source": [
    "def sum_consumption_by_country(df, country_key):\n",
    "    country_filter = (df['Country'] == country_key)\n",
    "    g_stats = df[country_filter].groupby(['Country', 'Survey', 'Pop Class'], sort = False)['Mean'].sum().groupby('Pop Class', sort = False).mean().sort_index()\n",
    "    return g_stats.round(0)\n"
   ]
  },
  {
   "cell_type": "code",
   "execution_count": 119,
   "metadata": {
    "ExecuteTime": {
     "end_time": "2019-02-22T16:40:59.195675Z",
     "start_time": "2019-02-22T17:40:59.183649+01:00"
    }
   },
   "outputs": [
    {
     "name": "stdout",
     "output_type": "stream",
     "text": [
      "{'Adults': 3745.0, 'Toddlers': 1482.0, 'Infants': 1253.0, 'Very elderly': 3516.0, 'Adolescents': 2670.0, 'Elderly': 3512.0, 'Other children': 2176.0}\n",
      "1482.0\n"
     ]
    }
   ],
   "source": [
    "## Call Function \n",
    "##--------------------------------------------------------\n",
    "answer = sum_consumption_by_country(df1, 'Denmark')\n",
    "print(answer.to_dict())\n",
    "print(answer['Toddlers'])"
   ]
  },
  {
   "cell_type": "code",
   "execution_count": null,
   "metadata": {
    "ExecuteTime": {
     "end_time": "2019-02-22T15:50:21.399801Z",
     "start_time": "2019-02-22T16:50:21.372782+01:00"
    }
   },
   "outputs": [],
   "source": [
    "#df2.head()\n",
    "#df3.head()\n",
    "#df4.head()\n",
    "print(df1.columns)\n",
    "L1_foodgroups = df1['Foodex L1' ].unique()\n",
    "print('L1 Food Groups ', len(L1_foodgroups))\n",
    "pp.pprint(L1_foodgroups)\n",
    "print(df1['Survey'].unique())"
   ]
  },
  {
   "cell_type": "code",
   "execution_count": 79,
   "metadata": {
    "ExecuteTime": {
     "end_time": "2019-02-22T16:14:21.477931Z",
     "start_time": "2019-02-22T17:14:21.474929+01:00"
    }
   },
   "outputs": [],
   "source": [
    "# df1[ (df1['Country'] == 'Denmark') & (df1['Pop Class'] =='Very elderly') ]"
   ]
  },
  {
   "cell_type": "code",
   "execution_count": 86,
   "metadata": {
    "ExecuteTime": {
     "end_time": "2019-02-22T16:17:26.402900Z",
     "start_time": "2019-02-22T17:17:26.385872+01:00"
    }
   },
   "outputs": [
    {
     "data": {
      "text/plain": [
       "Country         Pop Class      \n",
       "Austria         Adults             3839.437782\n",
       "                Elderly            3057.579458\n",
       "                Very elderly       3544.986866\n",
       "                Other children     2409.847723\n",
       "                Adolescents        2088.809800\n",
       "Belgium         Adolescents        3486.831708\n",
       "                Adults             3613.969194\n",
       "                Elderly            3241.531193\n",
       "                Very elderly       2975.445205\n",
       "                Toddlers           1798.948146\n",
       "                Other children     1867.366346\n",
       "Bulgaria        Infants            1257.148264\n",
       "                Toddlers           1625.762263\n",
       "                Other children     1904.010407\n",
       "Cyprus          Adolescents        1740.196706\n",
       "Czech Republic  Other children     2420.936852\n",
       "                Adolescents        3237.228492\n",
       "                Adults             4245.855166\n",
       "Germany         Infants            1264.790288\n",
       "                Toddlers           1510.009145\n",
       "                Other children     1919.211279\n",
       "                Adolescents        3042.705885\n",
       "                Adults             4466.289487\n",
       "                Elderly            3962.509039\n",
       "                Very elderly       3636.380720\n",
       "Denmark         Other children     2175.527104\n",
       "                Adolescents        2670.357110\n",
       "                Adults             3745.038567\n",
       "                Elderly            3511.660884\n",
       "                Very elderly       3516.182687\n",
       "                Infants            1252.926600\n",
       "                Toddlers           1481.534565\n",
       "Spain           Other children     2282.560887\n",
       "                Adolescents        2747.411035\n",
       "                Toddlers           1940.245765\n",
       "                Adults             2941.490419\n",
       "Finland         Infants             940.328216\n",
       "                Toddlers           1611.012969\n",
       "                Other children     1913.295658\n",
       "                Adults             3878.350014\n",
       "                Elderly            3327.418909\n",
       "                Adolescents        2514.860368\n",
       "France          Other children     1802.705178\n",
       "                Adolescents        2082.146625\n",
       "                Adults             2858.618959\n",
       "                Elderly            3038.852195\n",
       "                Very elderly       3000.144252\n",
       "United Kingdom  Infants            1257.865367\n",
       "                Toddlers           1525.663633\n",
       "                Adults             3111.868094\n",
       "                Other children     1805.508666\n",
       "                Adolescents        2354.465999\n",
       "                Elderly            3089.533878\n",
       "                Very elderly       2805.798840\n",
       "Greece          Lactating women    2323.996694\n",
       "                Other children     1885.286204\n",
       "Hungary         Adults             2719.277031\n",
       "                Elderly            2250.229304\n",
       "                Very elderly       2121.550430\n",
       "Ireland         Adults             3222.619069\n",
       "                Elderly            2973.666597\n",
       "                Very elderly       2621.697249\n",
       "Italy           Infants            1668.996481\n",
       "                Toddlers           1721.715360\n",
       "                Other children     1989.104476\n",
       "                Adolescents        2487.450056\n",
       "                Adults             2442.937339\n",
       "                Elderly            2385.028236\n",
       "                Very elderly       2392.169743\n",
       "Latvia          Pregnant women     2653.756773\n",
       "                Other children     1995.917062\n",
       "                Adolescents        2443.662658\n",
       "                Adults             3042.804595\n",
       "Netherlands     Toddlers           1746.897851\n",
       "                Other children     2116.602181\n",
       "                Adults             4204.258670\n",
       "                Adolescents        3321.790680\n",
       "                Elderly            3522.347368\n",
       "                Very elderly       3235.479261\n",
       "Romania         Adults             2294.487421\n",
       "                Elderly            2184.306744\n",
       "                Very elderly       2157.254587\n",
       "Sweden          Other children     2088.718092\n",
       "                Adolescents        2490.364804\n",
       "                Adults             3205.810506\n",
       "                Elderly            2966.642707\n",
       "                Very elderly       2890.350118\n",
       "Name: Mean, dtype: float64"
      ]
     },
     "execution_count": 86,
     "metadata": {},
     "output_type": "execute_result"
    }
   ],
   "source": [
    "pd.options.display.max_rows = 100\n",
    "# df1[ (df1['Country'] == 'Denmark') & (df1['Survey'] == 'Danish Dietary Survey')][['Pop Class','Nr Consumers', 'Foodex L1']]      ##.groupby('Survey').max()\n",
    "g_stats = df1.groupby(['Country', 'Survey', 'Pop Class'], sort = False)['Mean'].sum().groupby(['Country', 'Pop Class'], sort = False).mean()\n",
    "g_stats"
   ]
  },
  {
   "cell_type": "code",
   "execution_count": 37,
   "metadata": {
    "ExecuteTime": {
     "end_time": "2019-02-22T16:03:41.833664Z",
     "start_time": "2019-02-22T17:03:41.811667+01:00"
    }
   },
   "outputs": [
    {
     "data": {
      "text/html": [
       "<div>\n",
       "<style scoped>\n",
       "    .dataframe tbody tr th:only-of-type {\n",
       "        vertical-align: middle;\n",
       "    }\n",
       "\n",
       "    .dataframe tbody tr th {\n",
       "        vertical-align: top;\n",
       "    }\n",
       "\n",
       "    .dataframe thead th {\n",
       "        text-align: right;\n",
       "    }\n",
       "</style>\n",
       "<table border=\"1\" class=\"dataframe\">\n",
       "  <thead>\n",
       "    <tr style=\"text-align: right;\">\n",
       "      <th></th>\n",
       "      <th>Nr Consumers</th>\n",
       "      <th>% Consumers</th>\n",
       "      <th>Mean</th>\n",
       "      <th>STD</th>\n",
       "      <th>P5</th>\n",
       "      <th>P10</th>\n",
       "      <th>Median</th>\n",
       "      <th>P95</th>\n",
       "      <th>P97.5</th>\n",
       "      <th>P99</th>\n",
       "    </tr>\n",
       "    <tr>\n",
       "      <th>Pop Class</th>\n",
       "      <th></th>\n",
       "      <th></th>\n",
       "      <th></th>\n",
       "      <th></th>\n",
       "      <th></th>\n",
       "      <th></th>\n",
       "      <th></th>\n",
       "      <th></th>\n",
       "      <th></th>\n",
       "      <th></th>\n",
       "    </tr>\n",
       "  </thead>\n",
       "  <tbody>\n",
       "    <tr>\n",
       "      <th>Other children</th>\n",
       "      <td>6048.0</td>\n",
       "      <td>15.376962</td>\n",
       "      <td>2175.527104</td>\n",
       "      <td>1296.847200</td>\n",
       "      <td>591.170571</td>\n",
       "      <td>808.258643</td>\n",
       "      <td>1918.410464</td>\n",
       "      <td>4620.230071</td>\n",
       "      <td>5286.549929</td>\n",
       "      <td>6479.363000</td>\n",
       "    </tr>\n",
       "    <tr>\n",
       "      <th>Adolescents</th>\n",
       "      <td>6604.0</td>\n",
       "      <td>15.437793</td>\n",
       "      <td>2670.357110</td>\n",
       "      <td>1946.447901</td>\n",
       "      <td>528.753726</td>\n",
       "      <td>768.606071</td>\n",
       "      <td>2201.432393</td>\n",
       "      <td>6349.908929</td>\n",
       "      <td>7657.122464</td>\n",
       "      <td>9999.237714</td>\n",
       "    </tr>\n",
       "    <tr>\n",
       "      <th>Adults</th>\n",
       "      <td>36479.0</td>\n",
       "      <td>16.041058</td>\n",
       "      <td>3745.038567</td>\n",
       "      <td>2668.616688</td>\n",
       "      <td>628.394405</td>\n",
       "      <td>985.688857</td>\n",
       "      <td>3194.205179</td>\n",
       "      <td>8620.107857</td>\n",
       "      <td>10348.450143</td>\n",
       "      <td>12585.850143</td>\n",
       "    </tr>\n",
       "    <tr>\n",
       "      <th>Elderly</th>\n",
       "      <td>4667.5</td>\n",
       "      <td>16.032823</td>\n",
       "      <td>3511.660884</td>\n",
       "      <td>2374.173320</td>\n",
       "      <td>709.479214</td>\n",
       "      <td>1044.611571</td>\n",
       "      <td>2992.090964</td>\n",
       "      <td>7783.178786</td>\n",
       "      <td>9593.492429</td>\n",
       "      <td>11106.734429</td>\n",
       "    </tr>\n",
       "    <tr>\n",
       "      <th>Very elderly</th>\n",
       "      <td>250.5</td>\n",
       "      <td>15.741667</td>\n",
       "      <td>3516.182687</td>\n",
       "      <td>2162.502378</td>\n",
       "      <td>870.488143</td>\n",
       "      <td>1178.561071</td>\n",
       "      <td>3146.006036</td>\n",
       "      <td>7613.816786</td>\n",
       "      <td>8328.061786</td>\n",
       "      <td>8328.061786</td>\n",
       "    </tr>\n",
       "    <tr>\n",
       "      <th>Infants</th>\n",
       "      <td>10652.0</td>\n",
       "      <td>12.895884</td>\n",
       "      <td>1252.926600</td>\n",
       "      <td>992.123960</td>\n",
       "      <td>124.130143</td>\n",
       "      <td>233.431571</td>\n",
       "      <td>1038.443857</td>\n",
       "      <td>3249.442000</td>\n",
       "      <td>3684.190714</td>\n",
       "      <td>4441.557857</td>\n",
       "    </tr>\n",
       "    <tr>\n",
       "      <th>Toddlers</th>\n",
       "      <td>13680.0</td>\n",
       "      <td>14.918212</td>\n",
       "      <td>1481.534565</td>\n",
       "      <td>863.029800</td>\n",
       "      <td>447.648714</td>\n",
       "      <td>616.361571</td>\n",
       "      <td>1306.977286</td>\n",
       "      <td>3016.441000</td>\n",
       "      <td>3495.953857</td>\n",
       "      <td>4195.454714</td>\n",
       "    </tr>\n",
       "  </tbody>\n",
       "</table>\n",
       "</div>"
      ],
      "text/plain": [
       "                Nr Consumers  % Consumers         Mean          STD  \\\n",
       "Pop Class                                                             \n",
       "Other children        6048.0    15.376962  2175.527104  1296.847200   \n",
       "Adolescents           6604.0    15.437793  2670.357110  1946.447901   \n",
       "Adults               36479.0    16.041058  3745.038567  2668.616688   \n",
       "Elderly               4667.5    16.032823  3511.660884  2374.173320   \n",
       "Very elderly           250.5    15.741667  3516.182687  2162.502378   \n",
       "Infants              10652.0    12.895884  1252.926600   992.123960   \n",
       "Toddlers             13680.0    14.918212  1481.534565   863.029800   \n",
       "\n",
       "                        P5          P10       Median          P95  \\\n",
       "Pop Class                                                           \n",
       "Other children  591.170571   808.258643  1918.410464  4620.230071   \n",
       "Adolescents     528.753726   768.606071  2201.432393  6349.908929   \n",
       "Adults          628.394405   985.688857  3194.205179  8620.107857   \n",
       "Elderly         709.479214  1044.611571  2992.090964  7783.178786   \n",
       "Very elderly    870.488143  1178.561071  3146.006036  7613.816786   \n",
       "Infants         124.130143   233.431571  1038.443857  3249.442000   \n",
       "Toddlers        447.648714   616.361571  1306.977286  3016.441000   \n",
       "\n",
       "                       P97.5           P99  \n",
       "Pop Class                                   \n",
       "Other children   5286.549929   6479.363000  \n",
       "Adolescents      7657.122464   9999.237714  \n",
       "Adults          10348.450143  12585.850143  \n",
       "Elderly          9593.492429  11106.734429  \n",
       "Very elderly     8328.061786   8328.061786  \n",
       "Infants          3684.190714   4441.557857  \n",
       "Toddlers         3495.953857   4195.454714  "
      ]
     },
     "execution_count": 37,
     "metadata": {},
     "output_type": "execute_result"
    }
   ],
   "source": [
    "answer.groupby('Pop Class', sort = False).mean()"
   ]
  },
  {
   "cell_type": "code",
   "execution_count": null,
   "metadata": {},
   "outputs": [],
   "source": []
  }
 ],
 "metadata": {
  "anaconda-cloud": {},
  "kernelspec": {
   "display_name": "Python [conda env:MLProject]",
   "language": "python",
   "name": "conda-env-MLProject-py"
  },
  "language_info": {
   "codemirror_mode": {
    "name": "ipython",
    "version": 3
   },
   "file_extension": ".py",
   "mimetype": "text/x-python",
   "name": "python",
   "nbconvert_exporter": "python",
   "pygments_lexer": "ipython3",
   "version": "3.5.6"
  },
  "toc": {
   "base_numbering": 1,
   "nav_menu": {},
   "number_sections": true,
   "sideBar": true,
   "skip_h1_title": false,
   "title_cell": "Table of Contents",
   "title_sidebar": "Contents",
   "toc_cell": false,
   "toc_position": {},
   "toc_section_display": true,
   "toc_window_display": false
  }
 },
 "nbformat": 4,
 "nbformat_minor": 2
}
